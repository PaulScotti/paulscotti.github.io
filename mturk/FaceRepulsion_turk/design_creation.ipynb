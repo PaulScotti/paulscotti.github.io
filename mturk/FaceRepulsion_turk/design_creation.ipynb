{
 "cells": [
  {
   "cell_type": "code",
   "execution_count": 21,
   "metadata": {},
   "outputs": [],
   "source": [
    "import numpy as np\n",
    "import json"
   ]
  },
  {
   "cell_type": "code",
   "execution_count": 22,
   "metadata": {
    "scrolled": true
   },
   "outputs": [],
   "source": [
    "img_ids = []\n",
    "for i in range(60):\n",
    "    for j in range(120):\n",
    "        img_ids.append(f'#pair{i}_{j}')\n",
    "for i in range(200):\n",
    "    img_ids.append(f'#obj{i}')\n",
    "for i in range(130):\n",
    "    img_ids.append(f'#scene{i}')"
   ]
  },
  {
   "cell_type": "code",
   "execution_count": 23,
   "metadata": {},
   "outputs": [],
   "source": [
    "for j in range(100):\n",
    "    scenes=[]\n",
    "    idx = np.random.permutation(np.arange(130))\n",
    "    for i in idx:\n",
    "        scenes.append(int(i))\n",
    "    \n",
    "    objects=[]\n",
    "    idx = np.random.permutation(np.arange(130))\n",
    "    for i in idx:\n",
    "        objects.append(int(i))\n",
    "\n",
    "    faceAs=[]\n",
    "    faceBs=[]\n",
    "    for i in range(60):\n",
    "        whereA = np.random.choice(np.arange(30)+15)\n",
    "        faceAs.append(int(whereA))\n",
    "        whereB = np.random.choice(np.arange(30)+60+15)\n",
    "        faceBs.append(int(whereB))\n",
    "        \n",
    "    faceA=[]\n",
    "    faceB=[]\n",
    "    faces=np.random.permutation(np.arange(60))\n",
    "    for block in range(6):\n",
    "        picksA = faces[block*10:block*10+10]\n",
    "        if len(picksA)!=10:\n",
    "            error\n",
    "        picksB = np.random.permutation(picksA) \n",
    "        faceA.append(picksA)\n",
    "        faceB.append(picksB)\n",
    "    faceA = np.array(faceA)\n",
    "    faceB = np.array(faceB)\n",
    "    faceA = [int(a) for a in faceA.flatten()]\n",
    "    faceB = [int(a) for a in faceB.flatten()]\n",
    "        \n",
    "    with open(f'design/scenes{j}.json', 'w') as f:\n",
    "        json.dump(scenes, f)\n",
    "        \n",
    "    with open(f'design/objects{j}.json', 'w') as f:\n",
    "        json.dump(objects, f)\n",
    "        \n",
    "    with open(f'design/faceAs{j}.json', 'w') as f:\n",
    "        json.dump(faceAs, f)\n",
    "        \n",
    "    with open(f'design/faceBs{j}.json', 'w') as f:\n",
    "        json.dump(faceBs, f)\n",
    "        \n",
    "    with open(f'design/faceA{j}.json', 'w') as f:\n",
    "        json.dump(faceA, f)\n",
    "        \n",
    "    with open(f'design/faceB{j}.json', 'w') as f:\n",
    "        json.dump(faceB, f)"
   ]
  },
  {
   "cell_type": "code",
   "execution_count": 15,
   "metadata": {},
   "outputs": [],
   "source": []
  },
  {
   "cell_type": "code",
   "execution_count": null,
   "metadata": {},
   "outputs": [],
   "source": []
  }
 ],
 "metadata": {
  "kernelspec": {
   "display_name": "Python 3",
   "language": "python",
   "name": "python3"
  },
  "language_info": {
   "codemirror_mode": {
    "name": "ipython",
    "version": 3
   },
   "file_extension": ".py",
   "mimetype": "text/x-python",
   "name": "python",
   "nbconvert_exporter": "python",
   "pygments_lexer": "ipython3",
   "version": "3.9.1"
  },
  "toc": {
   "base_numbering": 1,
   "nav_menu": {},
   "number_sections": true,
   "sideBar": true,
   "skip_h1_title": false,
   "title_cell": "Table of Contents",
   "title_sidebar": "Contents",
   "toc_cell": false,
   "toc_position": {},
   "toc_section_display": true,
   "toc_window_display": false
  }
 },
 "nbformat": 4,
 "nbformat_minor": 4
}
