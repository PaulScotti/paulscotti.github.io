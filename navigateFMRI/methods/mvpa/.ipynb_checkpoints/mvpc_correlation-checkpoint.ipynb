{
 "cells": [
  {
   "cell_type": "markdown",
   "metadata": {
    "toc": true
   },
   "source": [
    "<h1>Table of Contents<span class=\"tocSkip\"></span></h1>\n",
    "<div class=\"toc\"><ul class=\"toc-item\"><li><span><a href=\"#MVPCorrelation\" data-toc-modified-id=\"MVPCorrelation-1\">MVPCorrelation</a></span></li><li><span><a href=\"#Create-simulated-dataset\" data-toc-modified-id=\"Create-simulated-dataset-2\">Create simulated dataset</a></span></li><li><span><a href=\"#Load-post-processed-simulated-data\" data-toc-modified-id=\"Load-post-processed-simulated-data-3\">Load post-processed simulated data</a></span></li><li><span><a href=\"#Visualize-our-data\" data-toc-modified-id=\"Visualize-our-data-4\">Visualize our data</a></span><ul class=\"toc-item\"><li><span><a href=\"#Correlation-approach\" data-toc-modified-id=\"Correlation-approach-4.1\">Correlation approach</a></span></li><li><span><a href=\"#Classifier-apprach\" data-toc-modified-id=\"Classifier-apprach-4.2\">Classifier apprach</a></span></li></ul></li><li><span><a href=\"#Perform-group-level-analysis\" data-toc-modified-id=\"Perform-group-level-analysis-5\">Perform group-level analysis</a></span></li><li><span><a href=\"#Conclusion\" data-toc-modified-id=\"Conclusion-6\">Conclusion</a></span></li></ul></div>"
   ]
  },
  {
   "cell_type": "markdown",
   "metadata": {},
   "source": [
    "# MVPCorrelation"
   ]
  },
  {
   "cell_type": "markdown",
   "metadata": {},
   "source": [
    "# Create simulated dataset"
   ]
  },
  {
   "cell_type": "code",
   "execution_count": 355,
   "metadata": {},
   "outputs": [],
   "source": [
    "## Code for simulating the data: ##\n",
    "import pymc3 as pm\n",
    "np.random.seed(1)\n",
    "num_subjects = 20\n",
    "num_conditions = 2\n",
    "num_blocks = 40\n",
    "num_voxels = 50\n",
    "data=[]\n",
    "\n",
    "activations=np.full(num_subjects*num_blocks*num_voxels,np.nan)\n",
    "sub_id=np.full(num_subjects*num_blocks*num_voxels,np.nan)\n",
    "cond_id=np.full(num_subjects*num_blocks*num_voxels,np.nan)\n",
    "block_id=np.full(num_subjects*num_blocks*num_voxels,np.nan)\n",
    "vox_id=np.full(num_subjects*num_blocks*num_voxels,np.nan)\n",
    "\n",
    "from scipy import signal\n",
    "def make_noncirc_gaussian_iter(mu,sd,stim_max=360):\n",
    "    if np.isscalar(mu):\n",
    "        mu=[mu]\n",
    "    if np.isscalar(sd):\n",
    "        sd=[sd]\n",
    "    return np.array([sp.stats.norm.pdf(np.arange(stim_max), m, s)\n",
    "                         for m,s in zip(mu,sd)]).T\n",
    "# create voxel tuning functions per condition\n",
    "vox_tuning = np.full((num_voxels,5),np.nan)\n",
    "for v in range(num_voxels):\n",
    "    if np.random.randint(2)==0:\n",
    "        vox_tuning[v,:] = make_noncirc_gaussian_iter([.5+np.random.rand()/2],[np.random.rand()+1],5).flatten()\n",
    "    else:\n",
    "        vox_tuning[v,:] = make_noncirc_gaussian_iter([2.5+np.random.rand()/2],[np.random.rand()+1],5).flatten()\n",
    "\n",
    "cnt=0\n",
    "blocks=np.concatenate([np.zeros(num_blocks//2),np.ones(num_blocks//2)])\n",
    "for s in range(num_subjects):\n",
    "    for r in range(num_blocks):\n",
    "        c=blocks[r]\n",
    "        if c==0:\n",
    "            for v in range(num_voxels):\n",
    "                activations[cnt]=vox_tuning[v,1]+np.random.rand()/2\n",
    "                vox_id[cnt]=v\n",
    "                sub_id[cnt]=s\n",
    "                cond_id[cnt]=c\n",
    "                block_id[cnt]=r\n",
    "                cnt+=1\n",
    "        else:\n",
    "            for v in range(num_voxels):\n",
    "                activations[cnt]=vox_tuning[v,3]+np.random.rand()/2\n",
    "                vox_id[cnt]=v\n",
    "                sub_id[cnt]=s\n",
    "                cond_id[cnt]=c\n",
    "                block_id[cnt]=r\n",
    "                cnt+=1\n",
    "\n",
    "np.save('activations.npy',activations)\n",
    "np.save('sub_id.npy',sub_id)\n",
    "np.save('cond_id.npy',cond_id)\n",
    "np.save('block_id.npy',block_id)\n",
    "np.save('vox_id.npy',vox_id)"
   ]
  },
  {
   "cell_type": "markdown",
   "metadata": {},
   "source": [
    "# Load post-processed simulated data\n",
    "Import our data. Look at how many subjects, trial conditions, and voxels we have to work with. \n",
    "\n",
    "Note that we follow Python conventions by numbering variables starting at 0 and not 1."
   ]
  },
  {
   "cell_type": "code",
   "execution_count": 84,
   "metadata": {
    "code_folding": []
   },
   "outputs": [],
   "source": [
    "# general packages\n",
    "import numpy as np\n",
    "import matplotlib.pyplot as plt\n",
    "import scipy as sp\n",
    "from sklearn import svm\n",
    "\n",
    "# pull data from GitHub\n",
    "import requests, io\n",
    "for array in ['activations','sub_id','cond_id','block_id']:\n",
    "    globals()['{}'.format(array)] = np.load(io.BytesIO(requests.get(\n",
    "        'http://paulscotti.github.io/navigateFMRI/methods/mvpa/{}.npy'.format(array)).content))\n",
    "\n",
    "# overview of the data\n",
    "num_subjects = len(np.unique(sub_id)) #20\n",
    "num_conditions = len(np.unique(cond_id)) #2\n",
    "num_blocks = len(np.unique(block_id)) #40"
   ]
  },
  {
   "cell_type": "code",
   "execution_count": 359,
   "metadata": {},
   "outputs": [],
   "source": [
    "# change default plotting\n",
    "plt.rcParams.update({'font.size': 20, 'figure.figsize': (7,2)})"
   ]
  },
  {
   "cell_type": "markdown",
   "metadata": {},
   "source": [
    "# Visualize our data"
   ]
  },
  {
   "cell_type": "code",
   "execution_count": 357,
   "metadata": {},
   "outputs": [
    {
     "data": {
      "image/png": "[encoded data removed]",
      "text/plain": [
       "<Figure size 504x144 with 1 Axes>"
      ]
     },
     "metadata": {
      "needs_background": "light"
     },
     "output_type": "display_data"
    }
   ],
   "source": [
    "plt.hist(activations[cond_id==0],color='blue',bins=30,label='Comedy')\n",
    "plt.hist(activations[cond_id==1],color='red',bins=30,alpha=.5,label='Horror')\n",
    "plt.yticks([]);plt.ylabel('Frequency')\n",
    "plt.xlabel(\"Activation strength\")\n",
    "plt.legend(bbox_to_anchor=(1, 1))\n",
    "plt.title(\"Histogram across subjects\")\n",
    "plt.show()"
   ]
  },
  {
   "cell_type": "markdown",
   "metadata": {},
   "source": [
    "## Correlation approach"
   ]
  },
  {
   "cell_type": "code",
   "execution_count": 358,
   "metadata": {},
   "outputs": [
    {
     "data": {
      "image/png": "[encoded data removed]",
      "text/plain": [
       "<Figure size 360x144 with 2 Axes>"
      ]
     },
     "metadata": {
      "needs_background": "light"
     },
     "output_type": "display_data"
    },
    {
     "name": "stdout",
     "output_type": "stream",
     "text": [
      "From left to right:\n",
      "° cond0 (odd) & cond0 (even)     Avg. across subjects:  r=0.2428\n",
      "° cond1 (odd) & cond1 (even)     Avg. across subjects:  r=0.3411\n",
      "° cond0 (odd) & cond1 (even)     Avg. across subjects:  r=-0.2605\n",
      "° cond1 (odd) & cond0 (even)     Avg. across subjects:  r=-0.2612\n",
      "\n",
      "Significantly different correlations betw first two columns and last two columns? (paired t-test):\n",
      "t=48.5594, p=0.0000\n"
     ]
    }
   ],
   "source": [
    "# for each subject, correlate odd/even runs for each condition\n",
    "corr = np.full((num_subjects,num_conditions*2),np.nan)\n",
    "for s in range(num_subjects):\n",
    "    for c in range(num_conditions*2):\n",
    "        if c == 0: # cond0 (odd) -> cond0 (even)\n",
    "            corr[s,c], _ = sp.stats.pearsonr(activations[(sub_id==s)&(cond_id==0)&(block_id%2==1)],\n",
    "                                            activations[(sub_id==s)&(cond_id==0)&(block_id%2==0)])\n",
    "        elif c == 1: # cond1 (odd) -> cond1 (even)\n",
    "            corr[s,c], _ = sp.stats.pearsonr(activations[(sub_id==s)&(cond_id==1)&(block_id%2==1)],\n",
    "                                            activations[(sub_id==s)&(cond_id==1)&(block_id%2==0)])\n",
    "        elif c == 2: # cond0 (odd) -> cond1 (even)\n",
    "            corr[s,c], _ = sp.stats.pearsonr(activations[(sub_id==s)&(cond_id==0)&(block_id%2==1)],\n",
    "                                            activations[(sub_id==s)&(cond_id==1)&(block_id%2==0)])\n",
    "        elif c == 3: # cond1 (odd) -> cond0 (even)\n",
    "            corr[s,c], _ = sp.stats.pearsonr(activations[(sub_id==s)&(cond_id==1)&(block_id%2==1)],\n",
    "                                            activations[(sub_id==s)&(cond_id==0)&(block_id%2==0)])\n",
    "# corr=np.abs(corr)\n",
    "    \n",
    "with plt.rc_context(rc={'font.size': 20, 'figure.figsize': (5,2)}):\n",
    "    plt.imshow(corr, cmap='gray', aspect='auto')\n",
    "    plt.ylabel('Subject ID')\n",
    "    plt.yticks([]);\n",
    "    plt.xticks(np.arange(4),[\"Horror\\n(Odd)\\nHorror\\n(Even)\",\"Comedy\\n(Odd)\\nComedy\\n(Even)\",\n",
    "                             \"Horror\\n(Odd)\\nComedy\\n(Even)\",\"Comedy\\n(Odd)\\nHorror\\n(Even)\"],\n",
    "               fontsize=14, rotation=0, ha=\"center\")\n",
    "#     plt.xlabel('Correlation Condition')\n",
    "    plt.colorbar()\n",
    "    plt.show()\n",
    "\n",
    "print('From left to right:')\n",
    "print('° cond0 (odd) & cond0 (even)     Avg. across subjects:  r={:.4f}'.format(np.mean(corr[:,0])))\n",
    "print('° cond1 (odd) & cond1 (even)     Avg. across subjects:  r={:.4f}'.format(np.mean(corr[:,1])))\n",
    "print('° cond0 (odd) & cond1 (even)     Avg. across subjects:  r={:.4f}'.format(np.mean(corr[:,2])))\n",
    "print('° cond1 (odd) & cond0 (even)     Avg. across subjects:  r={:.4f}'.format(np.mean(corr[:,3])))\n",
    "\n",
    "stat = sp.stats.ttest_rel(corr[:,:2].flatten(),corr[:,2:].flatten())\n",
    "print(\"\\nSignificantly different correlations betw first two columns and last two columns? (paired t-test):\\nt={:.4f}, p={:.4f}\".format(stat.statistic,stat.pvalue))"
   ]
  }
 ],
 "metadata": {
  "kernelspec": {
   "display_name": "Python 3",
   "language": "python",
   "name": "python3"
  },
  "language_info": {
   "codemirror_mode": {
    "name": "ipython",
    "version": 3
   },
   "file_extension": ".py",
   "mimetype": "text/x-python",
   "name": "python",
   "nbconvert_exporter": "python",
   "pygments_lexer": "ipython3",
   "version": "3.9.1"
  },
  "toc": {
   "base_numbering": 1,
   "nav_menu": {},
   "number_sections": false,
   "sideBar": true,
   "skip_h1_title": false,
   "title_cell": "Table of Contents",
   "title_sidebar": "Contents",
   "toc_cell": true,
   "toc_position": {
    "height": "calc(100% - 180px)",
    "left": "10px",
    "top": "150px",
    "width": "169px"
   },
   "toc_section_display": true,
   "toc_window_display": true
  },
  "varInspector": {
   "cols": {
    "lenName": 16,
    "lenType": 16,
    "lenVar": 40
   },
   "kernels_config": {
    "python": {
     "delete_cmd_postfix": "",
     "delete_cmd_prefix": "del ",
     "library": "var_list.py",
     "varRefreshCmd": "print(var_dic_list())"
    },
    "r": {
     "delete_cmd_postfix": ") ",
     "delete_cmd_prefix": "rm(",
     "library": "var_list.r",
     "varRefreshCmd": "cat(var_dic_list()) "
    }
   },
   "types_to_exclude": [
    "module",
    "function",
    "builtin_function_or_method",
    "instance",
    "_Feature"
   ],
   "window_display": false
  }
 },
 "nbformat": 4,
 "nbformat_minor": 2
}
