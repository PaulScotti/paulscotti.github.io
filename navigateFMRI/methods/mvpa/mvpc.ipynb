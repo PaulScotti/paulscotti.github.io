{
 "cells": [
  {
   "cell_type": "markdown",
   "metadata": {
    "toc": true
   },
   "source": [
    "<h1>Table of Contents<span class=\"tocSkip\"></span></h1>\n",
    "<div class=\"toc\"><ul class=\"toc-item\"><li><span><a href=\"#MVPC\" data-toc-modified-id=\"MVPC-1\">MVPC</a></span></li><li><span><a href=\"#Create-simulated-dataset\" data-toc-modified-id=\"Create-simulated-dataset-2\">Create simulated dataset</a></span></li><li><span><a href=\"#Load-post-processed-simulated-data\" data-toc-modified-id=\"Load-post-processed-simulated-data-3\">Load post-processed simulated data</a></span></li><li><span><a href=\"#Visualize-our-data\" data-toc-modified-id=\"Visualize-our-data-4\">Visualize our data</a></span></li><li><span><a href=\"#Perform-group-level-analysis\" data-toc-modified-id=\"Perform-group-level-analysis-5\">Perform group-level analysis</a></span></li><li><span><a href=\"#Conclusion\" data-toc-modified-id=\"Conclusion-6\">Conclusion</a></span></li></ul></div>"
   ]
  },
  {
   "cell_type": "markdown",
   "metadata": {},
   "source": [
    "# MVPC"
   ]
  },
  {
   "cell_type": "markdown",
   "metadata": {},
   "source": [
    "# Create simulated dataset"
   ]
  },
  {
   "cell_type": "code",
   "execution_count": 21,
   "metadata": {},
   "outputs": [],
   "source": [
    "## Code for simulating the data: ##\n",
    "import pymc3 as pm\n",
    "np.random.seed(1)\n",
    "num_subjects = 20\n",
    "num_conditions = 2\n",
    "num_voxels = 50\n",
    "num_trials = 10\n",
    "num_runs = 4\n",
    "data=[]\n",
    "\n",
    "normal1 = pm.Normal.dist(mu=1.5,sigma=.5)\n",
    "normal2 = pm.Normal.dist(mu=.5,sigma=.5)\n",
    "unif = pm.Uniform.dist(lower=-3,upper=3)\n",
    "cond1 = pm.Mixture.dist(w=[.2,.8], comp_dists=[normal1,unif])\n",
    "cond2 = pm.Mixture.dist(w=[.2,.8], comp_dists=[normal2,unif])\n",
    "\n",
    "activations=np.full(num_subjects*num_conditions*num_runs*num_trials*num_voxels,np.nan)\n",
    "sub_id=np.full(num_subjects*num_conditions*num_runs*num_trials*num_voxels,np.nan)\n",
    "cond_id=np.full(num_subjects*num_conditions*num_runs*num_trials*num_voxels,np.nan)\n",
    "vox_id=np.full(num_subjects*num_conditions*num_runs*num_trials*num_voxels,np.nan)\n",
    "run_id=np.full(num_subjects*num_conditions*num_runs*num_trials*num_voxels,np.nan)\n",
    "\n",
    "cnt=0\n",
    "for s in range(num_subjects):\n",
    "    for c in range(num_conditions):\n",
    "        for r in range(num_runs):\n",
    "            for t in range(num_trials):\n",
    "                for v in range(num_voxels):\n",
    "                    if c==0:\n",
    "                        activations[cnt]=cond1.random(size=1)\n",
    "                    else:\n",
    "                        activations[cnt]=cond2.random(size=1)\n",
    "                    sub_id[cnt]=s\n",
    "                    cond_id[cnt]=c\n",
    "                    vox_id[cnt]=v\n",
    "                    run_id[cnt]=r\n",
    "                    trial_id[cnt]=t\n",
    "                    cnt+=1\n",
    "\n",
    "np.save('activations.npy',activations)\n",
    "np.save('sub_id.npy',sub_id)\n",
    "np.save('cond_id.npy',cond_id)\n",
    "np.save('vox_id.npy',vox_id)\n",
    "np.save('trial_id.npy',vox_id)\n",
    "np.save('run_id.npy',run_id)"
   ]
  },
  {
   "cell_type": "markdown",
   "metadata": {},
   "source": [
    "# Load post-processed simulated data\n",
    "Import our data. Look at how many subjects, trial conditions, and voxels we have to work with. \n",
    "\n",
    "Note that we follow Python conventions by numbering variables starting at 0 and not 1."
   ]
  },
  {
   "cell_type": "code",
   "execution_count": 30,
   "metadata": {
    "code_folding": []
   },
   "outputs": [
    {
     "ename": "ValueError",
     "evalue": "Cannot load file containing pickled data when allow_pickle=False",
     "output_type": "error",
     "traceback": [
      "\u001b[0;31m---------------------------------------------------------------------------\u001b[0m",
      "\u001b[0;31mValueError\u001b[0m                                Traceback (most recent call last)",
      "\u001b[0;32m<ipython-input-30-e56d20bcd5ee>\u001b[0m in \u001b[0;36m<module>\u001b[0;34m\u001b[0m\n\u001b[1;32m      8\u001b[0m \u001b[0;32mimport\u001b[0m \u001b[0mrequests\u001b[0m\u001b[0;34m,\u001b[0m \u001b[0mio\u001b[0m\u001b[0;34m\u001b[0m\u001b[0;34m\u001b[0m\u001b[0m\n\u001b[1;32m      9\u001b[0m \u001b[0;32mfor\u001b[0m \u001b[0marray\u001b[0m \u001b[0;32min\u001b[0m \u001b[0;34m[\u001b[0m\u001b[0;34m'activations'\u001b[0m\u001b[0;34m,\u001b[0m\u001b[0;34m'sub_id'\u001b[0m\u001b[0;34m,\u001b[0m\u001b[0;34m'cond_id'\u001b[0m\u001b[0;34m,\u001b[0m\u001b[0;34m'vox_id'\u001b[0m\u001b[0;34m,\u001b[0m\u001b[0;34m'run_id'\u001b[0m\u001b[0;34m,\u001b[0m\u001b[0;34m'trial_id'\u001b[0m\u001b[0;34m]\u001b[0m\u001b[0;34m:\u001b[0m\u001b[0;34m\u001b[0m\u001b[0;34m\u001b[0m\u001b[0m\n\u001b[0;32m---> 10\u001b[0;31m     globals()['{}'.format(array)] = np.load(io.BytesIO(requests.get(\n\u001b[0m\u001b[1;32m     11\u001b[0m         'http://paulscotti.github.io/navigateFMRI/methods/univariate/{}.npy'.format(array)).content))\n\u001b[1;32m     12\u001b[0m \u001b[0;34m\u001b[0m\u001b[0m\n",
      "\u001b[0;32m/Library/Frameworks/Python.framework/Versions/3.9/lib/python3.9/site-packages/numpy/lib/npyio.py\u001b[0m in \u001b[0;36mload\u001b[0;34m(file, mmap_mode, allow_pickle, fix_imports, encoding)\u001b[0m\n\u001b[1;32m    442\u001b[0m             \u001b[0;31m# Try a pickle\u001b[0m\u001b[0;34m\u001b[0m\u001b[0;34m\u001b[0m\u001b[0;34m\u001b[0m\u001b[0m\n\u001b[1;32m    443\u001b[0m             \u001b[0;32mif\u001b[0m \u001b[0;32mnot\u001b[0m \u001b[0mallow_pickle\u001b[0m\u001b[0;34m:\u001b[0m\u001b[0;34m\u001b[0m\u001b[0;34m\u001b[0m\u001b[0m\n\u001b[0;32m--> 444\u001b[0;31m                 raise ValueError(\"Cannot load file containing pickled data \"\n\u001b[0m\u001b[1;32m    445\u001b[0m                                  \"when allow_pickle=False\")\n\u001b[1;32m    446\u001b[0m             \u001b[0;32mtry\u001b[0m\u001b[0;34m:\u001b[0m\u001b[0;34m\u001b[0m\u001b[0;34m\u001b[0m\u001b[0m\n",
      "\u001b[0;31mValueError\u001b[0m: Cannot load file containing pickled data when allow_pickle=False"
     ]
    }
   ],
   "source": [
    "# general packages\n",
    "import numpy as np\n",
    "import matplotlib.pyplot as plt\n",
    "import scipy as sp\n",
    "from sklearn import svm\n",
    "\n",
    "# pull data from GitHub\n",
    "import requests, io\n",
    "for array in ['activations','sub_id','cond_id','vox_id','run_id','trial_id']:\n",
    "    globals()['{}'.format(array)] = np.load(io.BytesIO(requests.get(\n",
    "        'http://paulscotti.github.io/navigateFMRI/methods/mvpa/{}.npy'.format(array)).content))\n",
    "\n",
    "# overview of the data\n",
    "num_subjects = len(np.unique(sub_id)) #20\n",
    "num_conditions = len(np.unique(cond_id)) #2\n",
    "num_voxels = len(np.unique(vox_id)) #50\n",
    "num_runs = len(np.unique(run_id)) #4\n",
    "num_trials = len(np.unique(trial_id)) #10"
   ]
  },
  {
   "cell_type": "code",
   "execution_count": 2,
   "metadata": {},
   "outputs": [],
   "source": [
    "# change default plotting\n",
    "plt.rcParams.update({'font.size': 20, 'figure.figsize': (7,2)})"
   ]
  },
  {
   "cell_type": "markdown",
   "metadata": {},
   "source": [
    "# Visualize our data"
   ]
  },
  {
   "cell_type": "code",
   "execution_count": 6,
   "metadata": {},
   "outputs": [
    {
     "data": {
      "image/png": "[encoded data removed]",
      "text/plain": [
       "<Figure size 504x144 with 1 Axes>"
      ]
     },
     "metadata": {
      "needs_background": "light"
     },
     "output_type": "display_data"
    }
   ],
   "source": [
    "plt.hist(activations[cond_id==0],color='blue',bins=30,label='Comedy')\n",
    "plt.hist(activations[cond_id==1],color='red',bins=30,alpha=.5,label='Horror')\n",
    "plt.yticks([]);plt.ylabel('Frequency')\n",
    "plt.xlabel(\"Activation strength\")\n",
    "plt.legend(bbox_to_anchor=(1, 1))\n",
    "# plt.savefig(\"2b.png\", dpi=250, transparent=True, bbox_inches=\"tight\", format=\"png\")\n",
    "plt.show()"
   ]
  },
  {
   "cell_type": "code",
   "execution_count": null,
   "metadata": {},
   "outputs": [],
   "source": [
    "scores=[];\n",
    "for s in range(num_subjects): #num_subjects\n",
    "    model = svm.SVC(kernel='linear')\n",
    "    # sort into training and test (samples,features)\n",
    "    X_train = activations[(cond_id==0) & (sub_id==s)]\n",
    "    X_train = X_train.reshape(num_runs//2*num_conditions,num_voxels)\n",
    "    y_train = data[(data['run']%2==0)&(data['sub_num']==s)].sort_values(['cond','vox']).loc[:,['cond']].values\n",
    "    y_train = y_train.reshape(num_runs//2*num_conditions,num_voxels)\n",
    "    y_train = np.unique(y_train,axis=1)\n",
    "\n",
    "    X_test = data[(data['run']%2==1)&(data['sub_num']==s)].sort_values(['cond','vox']).loc[:,['beta']].values\n",
    "    X_test = X_test.reshape(num_runs//2*num_conditions,num_voxels)\n",
    "    y_test = data[(data['run']%2==1)&(data['sub_num']==s)].sort_values(['cond','vox']).loc[:,['cond']].values\n",
    "    y_test = y_test.reshape(num_runs//2*num_conditions,num_voxels)\n",
    "    y_test = np.unique(y_test,axis=1)\n",
    "    \n",
    "    model.fit(X_train,y_train)\n",
    "    scores = np.concatenate([scores,[model.score(X_test,y_test)]])\n",
    "plt.scatter(np.arange(len(scores)),scores)\n",
    "print(\"avg across subs:\",np.mean(scores))"
   ]
  },
  {
   "cell_type": "code",
   "execution_count": 93,
   "metadata": {},
   "outputs": [
    {
     "data": {
      "image/png": "[encoded data removed]",
      "text/plain": [
       "<Figure size 504x72 with 1 Axes>"
      ]
     },
     "metadata": {},
     "output_type": "display_data"
    },
    {
     "data": {
      "image/png": "[encoded data removed]",
      "text/plain": [
       "<Figure size 504x72 with 1 Axes>"
      ]
     },
     "metadata": {
      "needs_background": "light"
     },
     "output_type": "display_data"
    }
   ],
   "source": [
    "with plt.rc_context(rc={'font.size': 16, 'figure.figsize': (7,1)}):\n",
    "    jitters = np.random.rand(num_subjects*2)/10\n",
    "    plt.scatter(data[data['cond']==0].groupby('sub_num')['beta'].mean(),\n",
    "                jitters[:num_subjects],color='b',alpha=.5,label=\"Horror\") \n",
    "    plt.scatter(data[data['cond']==1].groupby('sub_num')['beta'].mean(),\n",
    "                jitters[num_subjects:],color='r',alpha=.5,label=\"Comedy\") \n",
    "    plt.ylabel('Average')\n",
    "    plt.xlabel('Voxel activation')\n",
    "    plt.yticks([]);plt.xticks([])\n",
    "    plt.xlim([-3,3])\n",
    "    plt.savefig(\"2e.png\", dpi=250, transparent=True, bbox_inches=\"tight\", format=\"png\")\n",
    "    plt.show()\n",
    "    \n",
    "    plt.scatter(data[data['cond']==0].groupby('sub_num')['beta'].mean()-data[data['cond']==1].groupby('sub_num')['beta'].mean(),\n",
    "                jitters[:num_subjects],color='k') \n",
    "    plt.xlabel('Horror - Comedy')\n",
    "    plt.ylabel('Diff.')\n",
    "    plt.axvline(0,color='k',linestyle='--')\n",
    "    plt.yticks([])\n",
    "    plt.xticks([0])\n",
    "    plt.xlim([-1,1])\n",
    "#     plt.title('Subject 19')\n",
    "    plt.savefig(\"2f.png\", dpi=250, transparent=True, bbox_inches=\"tight\", format=\"png\")\n",
    "    plt.show()"
   ]
  },
  {
   "cell_type": "markdown",
   "metadata": {},
   "source": [
    "# Perform group-level analysis"
   ]
  },
  {
   "cell_type": "code",
   "execution_count": 110,
   "metadata": {},
   "outputs": [
    {
     "data": {
      "image/png": "[encoded data removed]",
      "text/plain": [
       "<Figure size 864x108 with 2 Axes>"
      ]
     },
     "metadata": {
      "needs_background": "light"
     },
     "output_type": "display_data"
    },
    {
     "name": "stdout",
     "output_type": "stream",
     "text": [
      "Horror vs. Comedy (paired t-test):\n",
      "t=5.3904, p=0.0000, d=0.7623\n"
     ]
    }
   ],
   "source": [
    "# do statistics between conditions\n",
    "a=np.mean(np.reshape(data[data['cond']==0]['beta'].values,(num_subjects,num_voxels)),\n",
    "          axis=1) # averaging voxels (in condition 0) for every subject\n",
    "b=np.mean(np.reshape(data[data['cond']==1]['beta'].values,(num_subjects,num_voxels)),\n",
    "          axis=1) # averaging voxels (in condition 1) for every subject\n",
    "\n",
    "with plt.rc_context(rc={'figure.figsize': (12,1.5)}):\n",
    "    sns.heatmap(np.flip(np.sort([a-b])),vmin=-1,vmax=1,cmap=\"RdBu\")\n",
    "    plt.ylabel(\"Difference\")\n",
    "    plt.yticks([])\n",
    "    plt.xticks(np.arange(.5,num_subjects+.5,2), np.arange(1,num_subjects,2), fontsize=12, rotation=0, ha=\"center\")\n",
    "    plt.xlabel(\"Subject\")\n",
    "    plt.title(\"Horror - Comedy\")\n",
    "    plt.savefig(\"3.png\", dpi=250, transparent=True, bbox_inches=\"tight\", pad_inches=0.1, format=\"png\")\n",
    "    plt.show()\n",
    "\n",
    "stat = sp.stats.ttest_rel(a,b)\n",
    "print(\"Horror vs. Comedy (paired t-test):\\nt={:.4f}, p={:.4f}, d={:.4f}\".format(\n",
    "    stat.statistic,stat.pvalue,paired_cohen_d(a,b)))"
   ]
  },
  {
   "cell_type": "markdown",
   "metadata": {},
   "source": [
    "# Conclusion"
   ]
  },
  {
   "cell_type": "markdown",
   "metadata": {},
   "source": [
    "**ROI responded more to condition 0 (blue) than condition 1 (red)**"
   ]
  }
 ],
 "metadata": {
  "kernelspec": {
   "display_name": "Python 3",
   "language": "python",
   "name": "python3"
  },
  "language_info": {
   "codemirror_mode": {
    "name": "ipython",
    "version": 3
   },
   "file_extension": ".py",
   "mimetype": "text/x-python",
   "name": "python",
   "nbconvert_exporter": "python",
   "pygments_lexer": "ipython3",
   "version": "3.9.1"
  },
  "toc": {
   "base_numbering": 1,
   "nav_menu": {},
   "number_sections": false,
   "sideBar": true,
   "skip_h1_title": false,
   "title_cell": "Table of Contents",
   "title_sidebar": "Contents",
   "toc_cell": true,
   "toc_position": {
    "height": "calc(100% - 180px)",
    "left": "10px",
    "top": "150px",
    "width": "165px"
   },
   "toc_section_display": true,
   "toc_window_display": true
  },
  "varInspector": {
   "cols": {
    "lenName": 16,
    "lenType": 16,
    "lenVar": 40
   },
   "kernels_config": {
    "python": {
     "delete_cmd_postfix": "",
     "delete_cmd_prefix": "del ",
     "library": "var_list.py",
     "varRefreshCmd": "print(var_dic_list())"
    },
    "r": {
     "delete_cmd_postfix": ") ",
     "delete_cmd_prefix": "rm(",
     "library": "var_list.r",
     "varRefreshCmd": "cat(var_dic_list()) "
    }
   },
   "types_to_exclude": [
    "module",
    "function",
    "builtin_function_or_method",
    "instance",
    "_Feature"
   ],
   "window_display": false
  }
 },
 "nbformat": 4,
 "nbformat_minor": 2
}
