{
 "cells": [
  {
   "cell_type": "markdown",
   "metadata": {
    "toc": true
   },
   "source": [
    "<h1>Table of Contents<span class=\"tocSkip\"></span></h1>\n",
    "<div class=\"toc\"><ul class=\"toc-item\"><li><span><a href=\"#MVPC\" data-toc-modified-id=\"MVPC-1\">MVPC</a></span></li><li><span><a href=\"#Create-simulated-dataset\" data-toc-modified-id=\"Create-simulated-dataset-2\">Create simulated dataset</a></span></li><li><span><a href=\"#Load-post-processed-simulated-data\" data-toc-modified-id=\"Load-post-processed-simulated-data-3\">Load post-processed simulated data</a></span></li><li><span><a href=\"#Visualize-our-data\" data-toc-modified-id=\"Visualize-our-data-4\">Visualize our data</a></span></li><li><span><a href=\"#Perform-group-level-analysis\" data-toc-modified-id=\"Perform-group-level-analysis-5\">Perform group-level analysis</a></span></li><li><span><a href=\"#Conclusion\" data-toc-modified-id=\"Conclusion-6\">Conclusion</a></span></li></ul></div>"
   ]
  },
  {
   "cell_type": "markdown",
   "metadata": {},
   "source": [
    "# MVPC"
   ]
  },
  {
   "cell_type": "markdown",
   "metadata": {},
   "source": [
    "# Create simulated dataset"
   ]
  },
  {
   "cell_type": "code",
   "execution_count": 30,
   "metadata": {},
   "outputs": [],
   "source": [
    "## Code for simulating the data: ##\n",
    "import pymc3 as pm\n",
    "np.random.seed(1)\n",
    "num_subjects = 20\n",
    "num_conditions = 2\n",
    "num_voxels = 50\n",
    "num_blocks = 10\n",
    "data=[]\n",
    "\n",
    "normal1 = pm.Normal.dist(mu=1.5,sigma=.5)\n",
    "normal2 = pm.Normal.dist(mu=.5,sigma=.5)\n",
    "unif = pm.Uniform.dist(lower=-3,upper=3)\n",
    "cond1 = pm.Mixture.dist(w=[.8,.2], comp_dists=[normal1,unif])\n",
    "cond2 = pm.Mixture.dist(w=[.8,.2], comp_dists=[normal2,unif])\n",
    "\n",
    "activations=np.full(num_subjects*num_conditions*num_blocks*num_voxels,np.nan)\n",
    "sub_id=np.full(num_subjects*num_conditions*num_blocks*num_voxels,np.nan)\n",
    "cond_id=np.full(num_subjects*num_conditions*num_blocks*num_voxels,np.nan)\n",
    "vox_id=np.full(num_subjects*num_conditions*num_blocks*num_voxels,np.nan)\n",
    "block_id=np.full(num_subjects*num_conditions*num_blocks*num_voxels,np.nan)\n",
    "\n",
    "cnt=0\n",
    "for s in range(num_subjects):\n",
    "    for c in range(num_conditions):\n",
    "        for r in range(num_blocks):\n",
    "            for v in range(num_voxels):\n",
    "                if c==0:\n",
    "                    activations[cnt]=cond1.random(size=1)\n",
    "                else:\n",
    "                    activations[cnt]=cond2.random(size=1)\n",
    "                sub_id[cnt]=s\n",
    "                cond_id[cnt]=c\n",
    "                vox_id[cnt]=v\n",
    "                block_id[cnt]=r\n",
    "                trial_id[cnt]=t\n",
    "                cnt+=1\n",
    "\n",
    "np.save('activations.npy',activations)\n",
    "np.save('sub_id.npy',sub_id)\n",
    "np.save('cond_id.npy',cond_id)\n",
    "np.save('vox_id.npy',vox_id)\n",
    "np.save('block_id.npy',block_id)"
   ]
  },
  {
   "cell_type": "markdown",
   "metadata": {},
   "source": [
    "# Load post-processed simulated data\n",
    "Import our data. Look at how many subjects, trial conditions, and voxels we have to work with. \n",
    "\n",
    "Note that we follow Python conventions by numbering variables starting at 0 and not 1."
   ]
  },
  {
   "cell_type": "code",
   "execution_count": 2,
   "metadata": {
    "code_folding": []
   },
   "outputs": [],
   "source": [
    "# general packages\n",
    "import numpy as np\n",
    "import matplotlib.pyplot as plt\n",
    "import scipy as sp\n",
    "from sklearn import svm\n",
    "\n",
    "# pull data from GitHub\n",
    "import requests, io\n",
    "for array in ['activations','sub_id','cond_id','vox_id','block_id','trial_id']:\n",
    "    globals()['{}'.format(array)] = np.load(io.BytesIO(requests.get(\n",
    "        'http://paulscotti.github.io/navigateFMRI/methods/mvpa/{}.npy'.format(array)).content))\n",
    "\n",
    "# overview of the data\n",
    "num_subjects = len(np.unique(sub_id)) #20\n",
    "num_conditions = len(np.unique(cond_id)) #2\n",
    "num_voxels = len(np.unique(vox_id)) #50\n",
    "num_blocks = len(np.unique(block_id)) #4"
   ]
  },
  {
   "cell_type": "code",
   "execution_count": 3,
   "metadata": {},
   "outputs": [],
   "source": [
    "# change default plotting\n",
    "plt.rcParams.update({'font.size': 20, 'figure.figsize': (7,2)})"
   ]
  },
  {
   "cell_type": "markdown",
   "metadata": {},
   "source": [
    "# Visualize our data"
   ]
  },
  {
   "cell_type": "code",
   "execution_count": 31,
   "metadata": {},
   "outputs": [
    {
     "data": {
      "image/png": "[encoded data removed]",
      "text/plain": [
       "<Figure size 504x144 with 1 Axes>"
      ]
     },
     "metadata": {
      "needs_background": "light"
     },
     "output_type": "display_data"
    }
   ],
   "source": [
    "plt.hist(activations[cond_id==0],color='blue',bins=30,label='Comedy')\n",
    "plt.hist(activations[cond_id==1],color='red',bins=30,alpha=.5,label='Horror')\n",
    "plt.yticks([]);plt.ylabel('Frequency')\n",
    "plt.xlabel(\"Activation strength\")\n",
    "plt.legend(bbox_to_anchor=(1, 1))\n",
    "# plt.savefig(\"2b.png\", dpi=250, transparent=True, bbox_inches=\"tight\", format=\"png\")\n",
    "plt.show()"
   ]
  },
  {
   "cell_type": "code",
   "execution_count": 32,
   "metadata": {},
   "outputs": [
    {
     "data": {
      "image/png": "[encoded data removed]",
      "text/plain": [
       "<Figure size 504x144 with 1 Axes>"
      ]
     },
     "metadata": {
      "needs_background": "light"
     },
     "output_type": "display_data"
    },
    {
     "name": "stdout",
     "output_type": "stream",
     "text": [
      "Avg correct predictions across subs: 0.7675\n",
      "Above-chance prediction accuracy? (t-test):\n",
      "t=61.7678, p=0.0000\n"
     ]
    }
   ],
   "source": [
    "scores=[];\n",
    "for s in range(num_subjects):\n",
    "    model = svm.SVC(kernel='linear')\n",
    "\n",
    "    samples_train = activations[(sub_id==s) & (block_id%2==0)].reshape(-1, 1)\n",
    "    classes_train = cond_id[(sub_id==s) & (block_id%2==0)].ravel()\n",
    "\n",
    "    samples_test = activations[(sub_id==s) & (block_id%2==1)].reshape(-1, 1)\n",
    "    classes_test = cond_id[(sub_id==s) & (block_id%2==1)].ravel()\n",
    "\n",
    "    model.fit(samples_train,classes_train)\n",
    "    scores = np.concatenate([scores,[model.score(samples_test,classes_test)]])\n",
    "plt.scatter(np.arange(len(scores)),scores)\n",
    "plt.ylim([.0,1.])\n",
    "plt.ylabel(\"% correct\")\n",
    "plt.xlabel(\"Subject ID\")\n",
    "plt.axhline(.5,ls='--',c='k',label='chance')\n",
    "plt.legend()\n",
    "plt.show()\n",
    "print(\"Avg correct predictions across subs:\",np.mean(scores))\n",
    "stat = sp.stats.ttest_rel(scores,np.ones(num_subjects)*.5)\n",
    "print(\"Above-chance prediction accuracy? (t-test):\\nt={:.4f}, p={:.4f}\".format(stat.statistic,stat.pvalue))"
   ]
  },
  {
   "cell_type": "code",
   "execution_count": 38,
   "metadata": {},
   "outputs": [
    {
     "data": {
      "image/png": "[encoded data removed]",
      "text/plain": [
       "<Figure size 504x144 with 1 Axes>"
      ]
     },
     "metadata": {
      "needs_background": "light"
     },
     "output_type": "display_data"
    }
   ],
   "source": [
    "s=1\n",
    "model = svm.SVC(kernel='linear')\n",
    "samples_train = activations[(sub_id==s) & (block_id%2==0)].reshape(-1, 1)\n",
    "classes_train = cond_id[(sub_id==s) & (block_id%2==0)].ravel()\n",
    "samples_test = activations[(sub_id==s) & (block_id%2==1)].reshape(-1, 1)\n",
    "classes_test = cond_id[(sub_id==s) & (block_id%2==1)].ravel()\n",
    "model.fit(samples_train,classes_train)\n",
    "\n",
    "plt.hist(activations[(sub_id==s) & (block_id%2==1) & (cond_id==0)],color='blue',bins=30,label='Comedy')\n",
    "plt.hist(activations[(sub_id==s) & (block_id%2==1) & (cond_id==1)],color='red',bins=30,alpha=.5,label='Horror')\n",
    "plt.yticks([]);plt.ylabel('Frequency')\n",
    "plt.xlabel(\"Activation strength\")\n",
    "plt.legend(bbox_to_anchor=(1, 1))\n",
    "\n",
    "xx = np.linspace(-5, 5, 100)\n",
    "yy = np.linspace(0, 40, 100)\n",
    "YY, XX = np.meshgrid(yy, xx)\n",
    "xy = np.vstack([XX.ravel()]).T\n",
    "Z = model.decision_function(xy).reshape(XX.shape)\n",
    "\n",
    "plt.title(\"Subject {}\".format(s))\n",
    "plt.contour(XX, YY, Z, colors='k', levels=[0],\n",
    "            linestyles=['--', '-', '--'])\n",
    "plt.show()"
   ]
  },
  {
   "cell_type": "code",
   "execution_count": null,
   "metadata": {},
   "outputs": [],
   "source": []
  }
 ],
 "metadata": {
  "kernelspec": {
   "display_name": "Python 3",
   "language": "python",
   "name": "python3"
  },
  "language_info": {
   "codemirror_mode": {
    "name": "ipython",
    "version": 3
   },
   "file_extension": ".py",
   "mimetype": "text/x-python",
   "name": "python",
   "nbconvert_exporter": "python",
   "pygments_lexer": "ipython3",
   "version": "3.9.1"
  },
  "toc": {
   "base_numbering": 1,
   "nav_menu": {},
   "number_sections": false,
   "sideBar": true,
   "skip_h1_title": false,
   "title_cell": "Table of Contents",
   "title_sidebar": "Contents",
   "toc_cell": true,
   "toc_position": {
    "height": "calc(100% - 180px)",
    "left": "10px",
    "top": "150px",
    "width": "165px"
   },
   "toc_section_display": true,
   "toc_window_display": true
  },
  "varInspector": {
   "cols": {
    "lenName": 16,
    "lenType": 16,
    "lenVar": 40
   },
   "kernels_config": {
    "python": {
     "delete_cmd_postfix": "",
     "delete_cmd_prefix": "del ",
     "library": "var_list.py",
     "varRefreshCmd": "print(var_dic_list())"
    },
    "r": {
     "delete_cmd_postfix": ") ",
     "delete_cmd_prefix": "rm(",
     "library": "var_list.r",
     "varRefreshCmd": "cat(var_dic_list()) "
    }
   },
   "types_to_exclude": [
    "module",
    "function",
    "builtin_function_or_method",
    "instance",
    "_Feature"
   ],
   "window_display": false
  }
 },
 "nbformat": 4,
 "nbformat_minor": 2
}
